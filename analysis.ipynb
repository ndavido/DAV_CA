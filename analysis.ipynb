{
 "cells": [
  {
   "cell_type": "code",
   "execution_count": 18,
   "metadata": {},
   "outputs": [],
   "source": [
    "import pandas as pd\n",
    "\n",
    "combined_df = pd.DataFrame()\n",
    "\n",
    "csv_files = ['amsterdam_weekdays.csv',\n",
    "         'athens_weekdays.csv',\n",
    "         'barcelona_weekdays.csv',\n",
    "         'berlin_weekdays.csv',\n",
    "         'budapest_weekdays.csv',\n",
    "         'lisbon_weekdays.csv',\n",
    "         'london_weekdays.csv',\n",
    "         'paris_weekdays.csv',\n",
    "         'rome_weekdays.csv',\n",
    "         'vienna_weekdays.csv']\n",
    "\n",
    "combined_df = []\n",
    "directory = 'air_bnb_data/'\n",
    "\n",
    "for file_name in csv_files:\n",
    "    city_name = file_name.split('_')[0]\n",
    "    df = pd.read_csv(f\"{directory}{file_name}\")\n",
    "    df.insert(0, 'City', city_name)\n",
    "    combined_df.append(df)\n",
    "    \n",
    "combined_df = pd.concat(combined_df)"
   ]
  },
  {
   "cell_type": "code",
   "execution_count": 19,
   "metadata": {},
   "outputs": [
    {
     "name": "stdout",
     "output_type": "stream",
     "text": [
      "City\n",
      "london       4614\n",
      "rome         4492\n",
      "paris        3130\n",
      "lisbon       2857\n",
      "athens       2653\n",
      "budapest     2074\n",
      "vienna       1738\n",
      "barcelona    1555\n",
      "berlin       1284\n",
      "amsterdam    1103\n",
      "Name: count, dtype: int64\n"
     ]
    }
   ],
   "source": [
    "city_count = combined_df['City'].value_counts()\n",
    "print(city_count)"
   ]
  }
 ],
 "metadata": {
  "kernelspec": {
   "display_name": "Python 3",
   "language": "python",
   "name": "python3"
  },
  "language_info": {
   "codemirror_mode": {
    "name": "ipython",
    "version": 3
   },
   "file_extension": ".py",
   "mimetype": "text/x-python",
   "name": "python",
   "nbconvert_exporter": "python",
   "pygments_lexer": "ipython3",
   "version": "3.10.12"
  }
 },
 "nbformat": 4,
 "nbformat_minor": 2
}
